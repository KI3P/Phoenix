{
 "cells": [
  {
   "cell_type": "code",
   "execution_count": null,
   "id": "2ba3d212",
   "metadata": {},
   "outputs": [],
   "source": [
    "import numpy as np\n",
    "import matplotlib.pyplot as plt\n",
    "from scipy.signal import welch"
   ]
  },
  {
   "cell_type": "markdown",
   "id": "7e9680bd",
   "metadata": {},
   "source": [
    "# Volume increase and decrease"
   ]
  },
  {
   "cell_type": "code",
   "execution_count": null,
   "id": "215da5a1",
   "metadata": {},
   "outputs": [],
   "source": [
    "ddec=np.genfromtxt('build/VolumeDecrease_ReceiveOut_L.txt',delimiter=\",\")\n",
    "dinc=np.genfromtxt('build/VolumeIncrease_ReceiveOut_L.txt',delimiter=\",\")\n",
    "\n",
    "plt.figure(facecolor='white')\n",
    "plt.plot(ddec)\n",
    "plt.title(\"Decrease volume\")\n",
    "plt.ylabel(\"Amplitude [digital units]\")\n",
    "plt.xlabel(\"Sample number\")\n",
    "\n",
    "plt.figure(facecolor='white')\n",
    "plt.plot(dinc)\n",
    "plt.title(\"Increase volume\")\n",
    "plt.ylabel(\"Amplitude [digital units]\")\n",
    "plt.xlabel(\"Sample number\")"
   ]
  },
  {
   "cell_type": "markdown",
   "id": "381b633b",
   "metadata": {},
   "source": [
    "# Filter increase"
   ]
  },
  {
   "cell_type": "code",
   "execution_count": null,
   "id": "f5cc9b85",
   "metadata": {},
   "outputs": [],
   "source": [
    "dinc=np.genfromtxt('build/FilterIncrease_ReceiveOut_L.txt',delimiter=\",\")\n",
    "\n",
    "plt.figure(facecolor='white')\n",
    "plt.plot(dinc)\n",
    "plt.title(\"Increase filter bandwidth\")\n",
    "plt.ylabel(\"Amplitude [digital units]\")\n",
    "plt.xlabel(\"Sample number\")"
   ]
  },
  {
   "cell_type": "code",
   "execution_count": null,
   "id": "99f734cb",
   "metadata": {},
   "outputs": [],
   "source": [
    "plt.figure(figsize=(8,20),facecolor='white')\n",
    "for k in range(7):\n",
    "    plt.subplot(7,1,k+1)\n",
    "    d = np.genfromtxt('build/VolumeIncrease-%02d.txt'%k,delimiter=\",\")\n",
    "    plt.plot(d[:,0],d[:,1],'k-')\n",
    "    plt.plot(d[:,0],d[:,2],'r-')\n",
    "    if k == 0:\n",
    "        plt.title(\"Volume increase\")\n",
    "        plt.ylabel(\"Input data\")\n",
    "    if k == 1:\n",
    "        plt.ylabel(\"After Fs/4\")\n",
    "    if k == 2:\n",
    "        plt.ylabel(\"After fine tune shift\")\n",
    "    if k == 3:\n",
    "        plt.ylabel(\"After decimate by 8\")\n",
    "    if k == 4:\n",
    "        plt.ylabel(\"After convolution filter\")\n",
    "    if k == 5:\n",
    "        plt.ylabel(\"After demodulate\")\n",
    "    if k == 6:\n",
    "        plt.ylabel(\"Output data\")\n"
   ]
  },
  {
   "cell_type": "markdown",
   "id": "d07b48ab",
   "metadata": {},
   "source": [
    "# Filter decrease"
   ]
  },
  {
   "cell_type": "code",
   "execution_count": null,
   "id": "0d1a3f51",
   "metadata": {},
   "outputs": [],
   "source": [
    "plt.figure(figsize=(8,20),facecolor='white')\n",
    "for k in range(7):\n",
    "    plt.subplot(7,1,k+1)\n",
    "    d = np.genfromtxt('build/FilterDecrease-%02d.txt'%k,delimiter=\",\")\n",
    "\n",
    "    plt.plot(d[:,0],d[:,1],'k-')\n",
    "    plt.plot(d[:,0],d[:,2],'r-')\n",
    "    if k == 0:\n",
    "        plt.title(\"Filter decrease\")\n",
    "        plt.ylabel(\"Input data\")\n",
    "    if k == 1:\n",
    "        plt.ylabel(\"After Fs/4\")\n",
    "    if k == 2:\n",
    "        plt.ylabel(\"After fine tune shift\")\n",
    "    if k == 3:\n",
    "        plt.ylabel(\"After decimate by 8\")\n",
    "    if k == 4:\n",
    "        plt.ylabel(\"After convolution filter\")\n",
    "    if k == 5:\n",
    "        plt.ylabel(\"After demodulate\")\n",
    "    if k == 6:\n",
    "        plt.ylabel(\"Output data\")\n"
   ]
  },
  {
   "cell_type": "code",
   "execution_count": null,
   "id": "0eea5d5d",
   "metadata": {},
   "outputs": [],
   "source": [
    "ddec=np.genfromtxt('build/FilterDecrease_ReceiveOut_L.txt',delimiter=\",\")\n",
    "\n",
    "plt.figure(facecolor='white')\n",
    "plt.plot(ddec)\n",
    "plt.title(\"Audio Output of Decrease filter bandwidth\")\n",
    "plt.ylabel(\"Amplitude [digital units]\")\n",
    "plt.xlabel(\"Sample number\")\n"
   ]
  },
  {
   "cell_type": "code",
   "execution_count": null,
   "id": "6175fd2f",
   "metadata": {},
   "outputs": [],
   "source": []
  },
  {
   "cell_type": "code",
   "execution_count": null,
   "id": "d1a9fe42",
   "metadata": {},
   "outputs": [],
   "source": []
  },
  {
   "cell_type": "code",
   "execution_count": null,
   "id": "a33aa694",
   "metadata": {},
   "outputs": [],
   "source": []
  },
  {
   "cell_type": "code",
   "execution_count": null,
   "id": "38b83c08",
   "metadata": {},
   "outputs": [],
   "source": []
  }
 ],
 "metadata": {
  "kernelspec": {
   "display_name": "Python 3 (ipykernel)",
   "language": "python",
   "name": "python3"
  },
  "language_info": {
   "codemirror_mode": {
    "name": "ipython",
    "version": 3
   },
   "file_extension": ".py",
   "mimetype": "text/x-python",
   "name": "python",
   "nbconvert_exporter": "python",
   "pygments_lexer": "ipython3",
   "version": "3.10.12"
  }
 },
 "nbformat": 4,
 "nbformat_minor": 5
}
