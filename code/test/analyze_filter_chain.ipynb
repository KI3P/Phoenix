{
 "cells": [
  {
   "cell_type": "code",
   "execution_count": null,
   "id": "2ba3d212",
   "metadata": {},
   "outputs": [],
   "source": [
    "import numpy as np\n",
    "import matplotlib.pyplot as plt\n",
    "from scipy.signal import welch"
   ]
  },
  {
   "cell_type": "markdown",
   "id": "b8a1cacf",
   "metadata": {},
   "source": [
    "# Zoom IIR filter"
   ]
  },
  {
   "cell_type": "code",
   "execution_count": null,
   "id": "7b14be5f",
   "metadata": {},
   "outputs": [],
   "source": [
    "def read_iir_dec(zoom):\n",
    "    d=np.genfromtxt('build/data_1k_33k.txt',delimiter=\",\")\n",
    "    dI=np.genfromtxt('build/data_after_IIR_zoom_%d.txt'%zoom,delimiter=\",\")\n",
    "    dID=np.genfromtxt('build/data_after_IIR_and_decimate_zoom_%d.txt'%zoom,delimiter=\",\")\n",
    "    dD=np.genfromtxt('build/data_after_decimate_zoom_%d.txt'%zoom,delimiter=\",\")\n",
    "    f,Pxx = welch(d[:,1],fs=192000,return_onesided=True)\n",
    "    fI,PxxI = welch(dI[:,1],fs=192000,return_onesided=True)\n",
    "    fID,PxxID = welch(dID[:,1],fs=192000/2**zoom,return_onesided=True)\n",
    "    fD,PxxD = welch(dD[:,1],fs=192000/2**zoom,return_onesided=True)\n",
    "    res = {'f_data':f,\n",
    "           'P_data':Pxx,\n",
    "           'f_IIR':fI,\n",
    "           'P_IIR':PxxI,\n",
    "           'f_IIR_dec':fID,\n",
    "           'P_IIR_dec':PxxID,\n",
    "           'f_dec':fD,\n",
    "           'P_dec':PxxD}\n",
    "    return res\n",
    "res_1 = read_iir_dec(1)\n",
    "res_2 = read_iir_dec(2)\n",
    "res_3 = read_iir_dec(3)\n",
    "res_4 = read_iir_dec(4)\n",
    "\n",
    "plt.figure(figsize=(14,10))\n",
    "plt.subplot(221)\n",
    "plt.plot(res_1['f_data']/1000,10*np.log10(res_1['P_data']),'k-',label='data')\n",
    "plt.plot(res_1['f_IIR']/1000,10*np.log10(res_1['P_IIR']),'r-',label='IIR')\n",
    "plt.plot(res_1['f_dec']/1000,10*np.log10(res_1['P_dec']),'g-',label='Decimate only')\n",
    "plt.plot(res_1['f_IIR_dec']/1000,10*np.log10(res_1['P_IIR_dec']),'b-',label='IIR+Decimate')\n",
    "plt.title('2x zoom')\n",
    "plt.legend()\n",
    "plt.xlabel('Frequency [kHz]')\n",
    "plt.ylabel('Power [dB]')\n",
    "plt.subplot(222)\n",
    "plt.plot(res_2['f_data']/1000,10*np.log10(res_2['P_data']),'k-',label='data')\n",
    "plt.plot(res_2['f_IIR']/1000,10*np.log10(res_2['P_IIR']),'r-',label='IIR')\n",
    "plt.plot(res_2['f_dec']/1000,10*np.log10(res_2['P_dec']),'g-',label='Decimate only')\n",
    "plt.plot(res_2['f_IIR_dec']/1000,10*np.log10(res_2['P_IIR_dec']),'b-',label='IIR+Decimate')\n",
    "plt.title('4x zoom')\n",
    "plt.legend()\n",
    "plt.xlabel('Frequency [kHz]')\n",
    "plt.ylabel('Power [dB]')\n",
    "\n",
    "plt.subplot(223)\n",
    "plt.plot(res_3['f_data']/1000,10*np.log10(res_3['P_data']),'k-',label='data')\n",
    "plt.plot(res_3['f_IIR']/1000,10*np.log10(res_3['P_IIR']),'r-',label='IIR')\n",
    "plt.plot(res_3['f_dec']/1000,10*np.log10(res_3['P_dec']),'g-',label='Decimate only')\n",
    "plt.plot(res_3['f_IIR_dec']/1000,10*np.log10(res_3['P_IIR_dec']),'b-',label='IIR+Decimate')\n",
    "plt.title('8x zoom')\n",
    "plt.legend()\n",
    "plt.xlabel('Frequency [kHz]')\n",
    "plt.ylabel('Power [dB]')\n",
    "\n",
    "plt.subplot(224)\n",
    "plt.plot(res_4['f_data']/1000,10*np.log10(res_4['P_data']),'k-',label='data')\n",
    "plt.plot(res_4['f_IIR']/1000,10*np.log10(res_4['P_IIR']),'r-',label='IIR')\n",
    "plt.plot(res_4['f_dec']/1000,10*np.log10(res_4['P_dec']),'g-',label='Decimate only')\n",
    "plt.plot(res_4['f_IIR_dec']/1000,10*np.log10(res_4['P_IIR_dec']),'b-',label='IIR+Decimate')\n",
    "plt.title('16x zoom')\n",
    "plt.legend()\n",
    "plt.xlabel('Frequency [kHz]')\n",
    "plt.ylabel('Power [dB]')"
   ]
  },
  {
   "cell_type": "markdown",
   "id": "ab457948",
   "metadata": {},
   "source": [
    "The output should look like this:\n",
    "\n",
    "![ZoomIIR](images/zoom_iir_filter.png)"
   ]
  },
  {
   "cell_type": "markdown",
   "id": "8abe4d88",
   "metadata": {},
   "source": [
    "# Zoom FFT"
   ]
  },
  {
   "cell_type": "code",
   "execution_count": null,
   "id": "08231897",
   "metadata": {},
   "outputs": [],
   "source": [
    "def plot_FFT_shift_zoom(zoom):\n",
    "    e=np.genfromtxt('build/zoomFFT%dpreshift_IQ.txt'%zoom,delimiter=\",\")\n",
    "    f,Pxx = welch(e[:,1]+1j*e[:,2],fs=192000,return_onesided=False)\n",
    "    e=np.genfromtxt('build/zoomFFT%dpostshift_IQ.txt'%zoom,delimiter=\",\")\n",
    "    fs,Pxxs = welch(e[:,1]+1j*e[:,2],fs=192000,return_onesided=False)\n",
    "\n",
    "    Imx = np.argmax(Pxx)\n",
    "    Imxs= np.argmax(Pxxs)\n",
    "    plt.figure(figsize=(14,5))\n",
    "    plt.subplot(1,2,1)\n",
    "    plt.plot(f,np.log10(Pxx)*10,'k-',\n",
    "            fs,np.log10(Pxxs)*10,'r-')\n",
    "    plt.title(\"Max at %d Hz and %d Hz\"%(f[Imx],fs[Imxs]))\n",
    "\n",
    "    e=np.genfromtxt('build/zoomFFT%d_psd.txt'%zoom,delimiter=\",\")\n",
    "    Imx = np.argmax(e[:,1])\n",
    "    plt.subplot(1,2,2)\n",
    "    plt.plot(e[:,0],10*e[:,1],'k-')\n",
    "    #plt.xlim([230,250])\n",
    "    plt.ylabel(\"Power [dB]\")\n",
    "    plt.xlabel(\"PSD Frequency Bins\")\n",
    "    plt.title(\"Zoom=%d: max at bin %d = %5.4f\"%(zoom,Imx,e[Imx,1]))\n",
    "    return e[Imx,1]"
   ]
  },
  {
   "cell_type": "code",
   "execution_count": null,
   "id": "615c75ff",
   "metadata": {},
   "outputs": [],
   "source": [
    "zooms = np.array([1,2,4,8,16])\n",
    "mags = np.zeros(len(zooms))\n",
    "for k in range(len(zooms)):\n",
    "    mags[k] = plot_FFT_shift_zoom(zooms[k])"
   ]
  },
  {
   "cell_type": "markdown",
   "id": "ff2bf155",
   "metadata": {},
   "source": [
    "The output should look like this:\n",
    "\n",
    "![Zoom1](images/zoom_fftshift_1.png)\n",
    "![Zoom2](images/zoom_fftshift_2.png)\n",
    "![Zoom4](images/zoom_fftshift_4.png)\n",
    "![Zoom8](images/zoom_fftshift_8.png)\n",
    "![Zoom16](images/zoom_fftshift_16.png)"
   ]
  },
  {
   "cell_type": "code",
   "execution_count": null,
   "id": "bb85b320",
   "metadata": {},
   "outputs": [],
   "source": [
    "att = 10*(mags-mags[0])\n",
    "plt.figure()\n",
    "plt.plot(zooms,10**(-att/20),'k-')\n",
    "plt.title(\"Magnitude of peak at different zoom levels\")\n",
    "plt.xlabel(\"Zoom\")\n",
    "plt.ylabel(\"Magnitude [linear]\")"
   ]
  },
  {
   "cell_type": "markdown",
   "id": "d3365f34",
   "metadata": {},
   "source": [
    "The output should look like this:\n",
    "\n",
    "![ZoomMagnitude](images/zoom_fftshift_magnitude.png)"
   ]
  },
  {
   "cell_type": "markdown",
   "id": "a79834c4",
   "metadata": {},
   "source": [
    "# Frequency Shift\n",
    "\n",
    "## Frequency moves correctly"
   ]
  },
  {
   "cell_type": "code",
   "execution_count": null,
   "id": "50c355dd",
   "metadata": {},
   "outputs": [],
   "source": [
    "def frequency_to_bin(freq, Nbins, SampleRate):\n",
    "    return (Nbins/2 + ( Nbins * freq / SampleRate ))"
   ]
  },
  {
   "cell_type": "code",
   "execution_count": null,
   "id": "62b618ea",
   "metadata": {},
   "outputs": [],
   "source": [
    "bt=np.genfromtxt('build/fineTuneTranslate_pretranslate_IQ.txt',delimiter=\",\")\n",
    "at=np.genfromtxt('build/fineTuneTranslate_posttranslate_IQ.txt',delimiter=\",\")\n",
    "fb,Pb = welch(bt[:,1]+1j*bt[:,2],fs=192000,return_onesided=False)\n",
    "fa,Pa = welch(at[:,1]+1j*at[:,2],fs=192000,return_onesided=False)\n",
    "\n",
    "plt.figure(figsize=(14,10))\n",
    "plt.subplot(2,2,1)\n",
    "plt.plot(bt[:,0],bt[:,1]+0.5,'k-',label='I+0.5')\n",
    "plt.plot(bt[:,0],bt[:,2]-0.5,'r-',label='Q-0.5')\n",
    "plt.legend()\n",
    "plt.title(\"Before frequency shift\")\n",
    "\n",
    "plt.subplot(2,2,2)\n",
    "plt.plot(at[:,0],at[:,1]+0.5,'k-',label='I+0.5')\n",
    "plt.plot(at[:,0],at[:,2]-0.5,'r-',label='Q-0.5')\n",
    "plt.legend()\n",
    "plt.title(\"After frequency shift\")\n",
    "\n",
    "plt.subplot(2,2,3)\n",
    "plt.plot(fb,10*np.log10(Pb),'k.')\n",
    "Im = np.argmax(Pb)\n",
    "plt.title(\"Max %5.4f at %d\"%(10*np.log10(Pb[Im]),Im))\n",
    "\n",
    "plt.subplot(2,2,4)\n",
    "plt.plot(fa,10*np.log10(Pa),'k.')\n",
    "Im = np.argmax(Pa)\n",
    "plt.title(\"Max %5.4f at %d\"%(10*np.log10(Pa[Im]),Im))"
   ]
  },
  {
   "cell_type": "markdown",
   "id": "35ef7b18",
   "metadata": {},
   "source": [
    "The output should look like this:\n",
    "\n",
    "![FreqShiftCorrect](images/frequency_shift_moves_correctly.png)"
   ]
  },
  {
   "cell_type": "markdown",
   "id": "7ba96c08",
   "metadata": {},
   "source": [
    "## Phase discontinuity"
   ]
  },
  {
   "cell_type": "code",
   "execution_count": null,
   "id": "6da530b0",
   "metadata": {},
   "outputs": [],
   "source": [
    "bt=np.genfromtxt('build/fineTunePhase_pretranslate_IQ.txt',delimiter=\",\")\n",
    "at=np.genfromtxt('build/fineTunePhase_posttranslate_IQ.txt',delimiter=\",\")\n",
    "fb,Pb = welch(bt[:,1]+1j*bt[:,2],fs=192000,return_onesided=False)\n",
    "fa,Pa = welch(at[:,1]+1j*at[:,2],fs=192000,return_onesided=False)\n",
    "\n",
    "N = 30\n",
    "plt.figure(figsize=(14,10))\n",
    "plt.subplot(2,2,1)\n",
    "plt.plot(bt[:,0],bt[:,1]+0.5,'k-',label='I+0.5')\n",
    "plt.plot(bt[:,0],bt[:,2]-0.5,'r-',label='Q-0.5')\n",
    "plt.plot([2048,2048],[-1,1],'k--')\n",
    "plt.xlim([2048-N*8,2048+N*8])\n",
    "plt.legend()\n",
    "plt.title(\"Before frequency shift\")\n",
    "\n",
    "plt.subplot(2,2,2)\n",
    "plt.plot(at[:,0],at[:,1]+0.5,'k-',label='I+0.5')\n",
    "plt.plot(at[:,0],at[:,2]-0.5,'r-',label='Q-0.5')\n",
    "plt.plot([2048,2048],[-1,1],'k--')\n",
    "plt.xlim([2048-N,2048+N])\n",
    "plt.legend()\n",
    "plt.title(\"After frequency shift\")\n",
    "\n",
    "plt.subplot(2,2,3)\n",
    "plt.plot(fb,10*np.log10(Pb),'k.')\n",
    "Im = np.argmax(Pb)\n",
    "plt.title(\"Max %5.4f at %d\"%(10*np.log10(Pb[Im]),Im))\n",
    "\n",
    "plt.subplot(2,2,4)\n",
    "plt.plot(fa,10*np.log10(Pa),'k.')\n",
    "Im = np.argmax(Pa)\n",
    "plt.title(\"Max %5.4f at %d\"%(10*np.log10(Pa[Im]),Im))\n",
    "\n",
    "e=np.genfromtxt('build/fineTunePhase_psd.txt',delimiter=\",\")\n",
    "Imx = np.argmax(e[:,1])\n",
    "plt.figure()\n",
    "plt.plot(e[:,0],10*e[:,1],'k-')\n",
    "plt.ylabel(\"Power [dB]\")\n",
    "plt.xlabel(\"PSD Frequency Bins\")\n",
    "plt.title(\"Max at bin %d = %5.4f\"%(Imx,e[Imx,1]))"
   ]
  },
  {
   "cell_type": "markdown",
   "id": "5be75880",
   "metadata": {},
   "source": [
    "Expected plots:\n",
    "![](images/frequency_shift_phase_discontinuity.png)\n",
    "![](images/frequency_shift_psd.png)"
   ]
  },
  {
   "cell_type": "code",
   "execution_count": null,
   "id": "41d738fa",
   "metadata": {},
   "outputs": [],
   "source": [
    "bt=np.genfromtxt('build/frequencyTranslate_pretranslate_IQ.txt',delimiter=\",\")\n",
    "mt=np.genfromtxt('build/frequencyTranslate_midcourse_IQ.txt',delimiter=\",\")\n",
    "at=np.genfromtxt('build/frequencyTranslate_posttranslate_IQ.txt',delimiter=\",\")\n",
    "\n",
    "fb,Pb = welch(bt[:,1]+1j*bt[:,2],fs=192000,return_onesided=False)\n",
    "fm,Pm = welch(mt[:,1]+1j*mt[:,2],fs=192000,return_onesided=False)\n",
    "fa,Pa = welch(at[:,1]+1j*at[:,2],fs=192000,return_onesided=False)\n",
    "\n",
    "plt.figure(figsize=(8,15))\n",
    "plt.subplot(3,1,1)\n",
    "plt.plot(fb,10*np.log10(Pb),'k.')\n",
    "Im = np.argmax(Pb)\n",
    "plt.title(\"Max %5.4f at %2.1f Hz (%d)\"%(10*np.log10(Pb[Im]),fb[Im],Im))\n",
    "\n",
    "plt.subplot(3,1,2)\n",
    "plt.plot(fm,10*np.log10(Pm),'k.')\n",
    "Im = np.argmax(Pm)\n",
    "plt.title(\"Max %5.4f at %2.1f Hz (%d)\"%(10*np.log10(Pm[Im]),fm[Im],Im))\n",
    "\n",
    "plt.subplot(3,1,3)\n",
    "plt.plot(fa,10*np.log10(Pa),'k.')\n",
    "Im = np.argmax(Pa)\n",
    "plt.title(\"Max %5.4f at %2.1f Hz (%d)\"%(10*np.log10(Pa[Im]),fa[Im],Im))\n",
    "\n"
   ]
  },
  {
   "cell_type": "markdown",
   "id": "cd8340ff",
   "metadata": {},
   "source": [
    "Expected plots:\n",
    "![](images/frequency_shift_psds_in_progress.png)"
   ]
  },
  {
   "cell_type": "markdown",
   "id": "5970ebaf",
   "metadata": {},
   "source": [
    "# Decimate by N"
   ]
  },
  {
   "cell_type": "code",
   "execution_count": null,
   "id": "66d49cba",
   "metadata": {},
   "outputs": [],
   "source": [
    "def plot_decimate_by_N(N,fsample=192000):\n",
    "    bt=np.genfromtxt('build/DecimateBy%d_original_IQ.txt'%N,delimiter=\",\")\n",
    "    at=np.genfromtxt('build/DecimateBy%d_decimated_IQ.txt'%N,delimiter=\",\")\n",
    "    fb,Pb = welch(bt[:,1]+1j*bt[:,2],fs=fsample,return_onesided=False)\n",
    "    fa,Pa = welch(at[:,1]+1j*at[:,2],fs=fsample/N,return_onesided=False)\n",
    "\n",
    "    plt.figure(figsize=(14,10))\n",
    "    plt.subplot(2,2,1)\n",
    "    plt.plot(bt[:,0],bt[:,1]+0.5,'k-',label='I+0.5')\n",
    "    plt.plot(bt[:,0],bt[:,2]-0.5,'r-',label='Q-0.5')\n",
    "    plt.xlim([0,300])\n",
    "    plt.grid()\n",
    "    plt.legend()\n",
    "    plt.title(\"Before decimation\")\n",
    "\n",
    "    plt.subplot(2,2,2)\n",
    "    plt.plot(at[:,0],at[:,1]+0.5,'k-',label='I+0.5')\n",
    "    plt.plot(at[:,0],at[:,2]-0.5,'r-',label='Q-0.5')\n",
    "    plt.xlim([0,300])\n",
    "    plt.grid()\n",
    "    plt.legend()\n",
    "    plt.title(\"After decimation by %d\"%N)\n",
    "\n",
    "    plt.subplot(2,2,3)\n",
    "    plt.plot(fb,10*np.log10(Pb),'k.')\n",
    "    plt.grid()\n",
    "    Im = np.argmax(Pb)\n",
    "    plt.title(\"Max %5.4f at f[%d]=%2.1fHz\"%(10*np.log10(Pb[Im]),Im,fb[Im]))\n",
    "\n",
    "    plt.subplot(2,2,4)\n",
    "    plt.plot(fa,10*np.log10(Pa),'k.')\n",
    "    plt.grid()\n",
    "    Im = np.argmax(Pa)\n",
    "    plt.title(\"Max %5.4f at f[%d]=%2.1fHz\"%(10*np.log10(Pa[Im]),Im,fa[Im]))\n",
    "    plt.text(fa[Im+5],10*np.log10(Pa[Im]),\"Peak-floor=%2.1f\"%(10*np.log10(Pa[Im])-10*np.log10(Pa[Im-10])))\n",
    "    \n",
    "    e=np.genfromtxt('build/DecimateBy%d_psd.txt'%N,delimiter=\",\")\n",
    "    Imx = np.argmax(e[:,1])\n",
    "    plt.figure()\n",
    "    plt.plot(e[:,0],10*e[:,1],'k-')\n",
    "    plt.grid()\n",
    "    plt.ylabel(\"Power [dB]\")\n",
    "    plt.xlabel(\"PSD Frequency Bins\")\n",
    "    plt.title(\"Max at bin %d = %5.4f\"%(Imx,e[Imx,1]))\n",
    "    plt.text(Imx+5,10*e[Imx,1],\"Peak-floor=%2.1f\"%(10*(e[Imx,1]-e[Imx-10,1])))"
   ]
  },
  {
   "cell_type": "code",
   "execution_count": null,
   "id": "15fdbb38",
   "metadata": {},
   "outputs": [],
   "source": [
    "plot_decimate_by_N(4)"
   ]
  },
  {
   "cell_type": "markdown",
   "id": "5b5bcdd7",
   "metadata": {},
   "source": [
    "Expected:\n",
    "![](images/decimate_by_N_4.png)\n",
    "![](images/decimate_by_N_4_psd.png)"
   ]
  },
  {
   "cell_type": "code",
   "execution_count": null,
   "id": "9246a2a8",
   "metadata": {},
   "outputs": [],
   "source": [
    "plot_decimate_by_N(2,fsample=192000/4)"
   ]
  },
  {
   "cell_type": "markdown",
   "id": "d3396648",
   "metadata": {},
   "source": [
    "Expected:\n",
    "![](images/decimate_by_N_2.png)\n",
    "![](images/decimate_by_N_2_psd.png)"
   ]
  },
  {
   "cell_type": "code",
   "execution_count": null,
   "id": "434a6453",
   "metadata": {},
   "outputs": [],
   "source": [
    "plot_decimate_by_N(8)"
   ]
  },
  {
   "cell_type": "markdown",
   "id": "f66d0d76",
   "metadata": {},
   "source": [
    "Expected:\n",
    "![](images/decimate_by_N_8.png)\n",
    "![](images/decimate_by_N_8_psd.png)"
   ]
  },
  {
   "cell_type": "markdown",
   "id": "8df6e90b",
   "metadata": {},
   "source": [
    "# Complex FIR Coefficients"
   ]
  },
  {
   "cell_type": "code",
   "execution_count": null,
   "id": "0484d173",
   "metadata": {},
   "outputs": [],
   "source": [
    "b=np.genfromtxt('build/FIR_filter_mask.txt',delimiter=\",\")\n",
    "c=np.genfromtxt('build/FIR_filter_samples.txt',delimiter=\",\")\n",
    "\n",
    "Ff = b[0::2,1]+1j*b[1::2,1] # Make complex FIR filter mask\n",
    "\n",
    "farr = c[0::2,1]+1j*c[1::2,1]\n",
    "F = np.fft.fft(farr)\n",
    "\n",
    "plt.figure()\n",
    "plt.plot(c[0::2,1],'k-')\n",
    "plt.plot(c[1::2,1],'r-')\n",
    "plt.xlabel('Sample number')\n",
    "plt.ylabel(\"Magnitude of coefficients\")\n",
    "\n",
    "plt.figure()\n",
    "plt.plot(np.abs(F),label='FFT of coefficients')\n",
    "plt.plot(np.abs(Ff)+0.1,label='Filter mask+0.1')\n",
    "plt.legend()\n",
    "plt.xlabel('Frequency bin')\n",
    "plt.ylabel(\"FFT of coefficients\")\n",
    "\n",
    "plt.figure()\n",
    "plt.plot(b[0::2,1],b[1::2,1])\n",
    "plt.axis('equal')\n",
    "plt.xlabel(\"Real part of filter mask\")\n",
    "plt.ylabel(\"Imag part of filter mask\")"
   ]
  },
  {
   "cell_type": "markdown",
   "id": "8683fed3",
   "metadata": {},
   "source": [
    "Expected:\n",
    "![](images/fir_coeffs_magnitude.png)\n",
    "![](images/fir_coeffs_fft.png)\n",
    "![](images/fir_coeffs_real_imag.png)\n"
   ]
  },
  {
   "cell_type": "code",
   "execution_count": null,
   "id": "0dd118f2",
   "metadata": {},
   "outputs": [],
   "source": [
    "plt.figure()\n",
    "plt.plot(np.abs(np.fft.fftshift(F)),label='FFT of coefficients')\n",
    "plt.plot(np.abs(np.fft.fftshift(Ff))+0.1,label='Filter mask+0.1')\n",
    "plt.legend()\n",
    "plt.xlabel('Frequency bin')\n",
    "plt.ylabel(\"FFT of coefficients\")\n",
    "plt.title(\"Shifted FFT\")"
   ]
  },
  {
   "cell_type": "markdown",
   "id": "d663e827",
   "metadata": {},
   "source": [
    "Expected:\n",
    "![](images/fir_coeffs_shifted_fft.png)\n"
   ]
  },
  {
   "cell_type": "markdown",
   "id": "db6915fd",
   "metadata": {},
   "source": [
    "# Convolution Filter"
   ]
  },
  {
   "cell_type": "code",
   "execution_count": null,
   "id": "0508bb9f",
   "metadata": {},
   "outputs": [],
   "source": [
    "po =np.genfromtxt('build/ConvolutionFilter_original_IQ.txt',delimiter=\",\")\n",
    "\n",
    "p1in =np.genfromtxt('build/fIQ_ConvolutionFilter_pass1.txt',delimiter=\",\")\n",
    "p1buf=np.genfromtxt('build/ConvolutionFilter_pass1.txt',delimiter=\",\")\n",
    "p1out=np.genfromtxt('build/ConvolutionFilter_pass1_filtered_IQ.txt',delimiter=\",\")\n",
    "\n",
    "p2in =np.genfromtxt('build/fIQ_ConvolutionFilter_pass2.txt',delimiter=\",\")\n",
    "p2buf=np.genfromtxt('build/ConvolutionFilter_pass2.txt',delimiter=\",\")\n",
    "p2out=np.genfromtxt('build/ConvolutionFilter_pass2_filtered_IQ.txt',delimiter=\",\")\n",
    "\n",
    "p3in =np.genfromtxt('build/fIQ_ConvolutionFilter_pass3.txt',delimiter=\",\")\n",
    "p3buf=np.genfromtxt('build/ConvolutionFilter_pass3.txt',delimiter=\",\")\n",
    "p3out=np.genfromtxt('build/ConvolutionFilter_pass3_filtered_IQ.txt',delimiter=\",\")\n",
    "\n",
    "def deinterleave(pout):\n",
    "    # deinterleave the outputs\n",
    "    pout = np.concatenate([pout[512:],pout[:512]])\n",
    "    pout[:,0] = np.arange(1024)\n",
    "    return pout\n",
    "\n",
    "# deinterleave the outputs\n",
    "#p1out = deinterleave(p1out)\n",
    "#p2out = deinterleave(p2out)\n",
    "#p3out = deinterleave(p3out)\n",
    "\n",
    "plt.figure()\n",
    "plt.plot(po[:,0],po[:,1],'k-')\n",
    "plt.plot(po[:,0],po[:,2],'r-')\n",
    "plt.xlabel(\"Time\")\n",
    "plt.ylabel(\"Amplitude\")\n",
    "plt.title('Original samples')\n",
    "\n",
    "ylims = [-1,1]\n",
    "plt.figure(figsize=(14,14))\n",
    "plt.subplot(3,3,1)\n",
    "plt.plot(p1in[:,0],p1in[:,1],'k-')\n",
    "plt.plot(p1in[:,0],p1in[:,2],'r-')\n",
    "#plt.ylim(ylims)\n",
    "#plt.xlabel(\"Time\")\n",
    "plt.ylabel(\"Amplitude\")\n",
    "plt.title('Pass 1 input samples')\n",
    "\n",
    "plt.subplot(3,3,2)\n",
    "plt.plot(p1buf[0::2,0]/2,p1buf[0::2,1],'k-')\n",
    "plt.plot(p1buf[0::2,0]/2,p1buf[1::2,1],'r-')\n",
    "#plt.ylim(ylims)\n",
    "#plt.xlabel(\"Time\")\n",
    "plt.ylabel(\"Amplitude\")\n",
    "plt.title('Pass 1 buffered samples')\n",
    "\n",
    "plt.subplot(3,3,3)\n",
    "plt.plot(p1out[:,0],p1out[:,1],'k-')\n",
    "plt.plot(p1out[:,0],p1out[:,2],'r-')\n",
    "#plt.ylim(ylims)\n",
    "#plt.xlabel(\"Time\")\n",
    "plt.ylabel(\"Amplitude\")\n",
    "plt.title('Pass 1 filtered samples')\n",
    "\n",
    "\n",
    "plt.subplot(3,3,1+3)\n",
    "plt.plot(p2in[:,0],p2in[:,1],'k-')\n",
    "plt.plot(p2in[:,0],p2in[:,2],'r-')\n",
    "#plt.ylim(ylims)\n",
    "#plt.xlabel(\"Time\")\n",
    "plt.ylabel(\"Amplitude\")\n",
    "plt.title('Pass 2 input samples')\n",
    "\n",
    "plt.subplot(3,3,2+3)\n",
    "plt.plot(p2buf[0::2,0]/2,p2buf[0::2,1],'k-')\n",
    "plt.plot(p2buf[0::2,0]/2,p2buf[1::2,1],'r-')\n",
    "#plt.ylim(ylims)\n",
    "#plt.xlabel(\"Time\")\n",
    "plt.ylabel(\"Amplitude\")\n",
    "plt.title('Pass 2 buffered samples')\n",
    "\n",
    "plt.subplot(3,3,3+3)\n",
    "plt.plot(p2out[:,0],p2out[:,1],'k-')\n",
    "plt.plot(p2out[:,0],p2out[:,2],'r-')\n",
    "#plt.ylim(ylims)\n",
    "#plt.xlabel(\"Time\")\n",
    "plt.ylabel(\"Amplitude\")\n",
    "plt.title('Pass 2 filtered samples')\n",
    "\n",
    "\n",
    "plt.subplot(3,3,1+6)\n",
    "plt.plot(p3in[:,0],p3in[:,1],'k-')\n",
    "plt.plot(p3in[:,0],p3in[:,2],'r-')\n",
    "#plt.ylim(ylims)\n",
    "plt.xlabel(\"Time\")\n",
    "plt.ylabel(\"Amplitude\")\n",
    "plt.title('Pass 3 input samples')\n",
    "\n",
    "plt.subplot(3,3,2+6)\n",
    "plt.plot(p3buf[0::2,0]/2,p3buf[0::2,1],'k-')\n",
    "plt.plot(p3buf[0::2,0]/2,p3buf[1::2,1],'r-')\n",
    "#plt.ylim(ylims)\n",
    "plt.xlabel(\"Time\")\n",
    "plt.ylabel(\"Amplitude\")\n",
    "plt.title('Pass 3 buffered samples')\n",
    "\n",
    "plt.subplot(3,3,3+6)\n",
    "plt.plot(p3out[:,0],p3out[:,1],'k-')\n",
    "plt.plot(p3out[:,0],p3out[:,2],'r-')\n",
    "#plt.ylim(ylims)\n",
    "plt.xlabel(\"Time\")\n",
    "plt.ylabel(\"Amplitude\")\n",
    "plt.title('Pass 3 filtered samples')\n",
    "\n",
    "fa,Pa = welch(po[:,1]+1j*po[:,2],fs=192000/8,return_onesided=False)\n",
    "f,P = welch(p3out[:,1]+1j*p3out[:,2],fs=192000/8,return_onesided=False)\n",
    "plt.figure()\n",
    "plt.plot(fa,10*np.log10(Pa),'k-',label='Original')\n",
    "plt.plot(f,10*np.log10(P),'r-',label='Filtered')\n",
    "plt.legend()\n",
    "plt.xlim([-8000,8000])\n",
    "plt.grid()\n",
    "plt.xlabel(\"Frequency [Hz]\")\n",
    "plt.ylabel('PSD [dB]')\n"
   ]
  },
  {
   "cell_type": "markdown",
   "id": "3cf8396a",
   "metadata": {},
   "source": [
    "Expected:\n",
    "![](images/convolution_filter_original_samples.png)\n",
    "![](images/convolution_filter_passes.png)\n",
    "![](images/convolution_filter_psd.png)"
   ]
  },
  {
   "cell_type": "code",
   "execution_count": null,
   "id": "8dcc6cd5",
   "metadata": {},
   "outputs": [],
   "source": [
    "def frequency_to_bin(freq, Nbins, SampleRate):\n",
    "    return (int)(Nbins/2 + np.ceil( Nbins * freq / SampleRate ))\n",
    "\n",
    "e=np.genfromtxt('build/ConvolutionFilter_filtered_PSD.txt',delimiter=\",\")\n",
    "\n",
    "bw = 192000/8/512\n",
    "\n",
    "plt.figure()\n",
    "plt.plot(e[:,0],e[:,1],'k-')\n",
    "for m in range(1,7):\n",
    "    b0 = frequency_to_bin(-m*192000/8/512*10+bw/2, 512, 192000/8)\n",
    "    print(\"m=%d,bin=%d,freq=%3.2f\"%(m,b0,-m*192000/8/512*10))\n",
    "    plt.plot(e[b0,0],e[b0,1],'r.')\n",
    "\n",
    "    \n",
    "for m in range(10,13):\n",
    "    b0 = frequency_to_bin(-m*192000/8/512*10+bw/2, 512, 192000/8)\n",
    "    print(\"m=%d,bin=%d,freq=%3.2f\"%(m,b0,-m*192000/8/512*10))\n",
    "    plt.plot(e[b0,0],e[b0,1],'r.')\n",
    "\n",
    "    \n",
    "\n",
    "plt.ylabel(\"Power [dB]\")\n",
    "plt.xlabel(\"PSD Frequency Bins\")\n",
    "plt.xlim([100,256])\n",
    "#plt.ylim([-2.5,5])\n",
    "plt.grid()\n"
   ]
  },
  {
   "cell_type": "markdown",
   "id": "06bd99d0",
   "metadata": {},
   "source": [
    "Expected:\n",
    "![](images/convolution_filter_psd_zoom.png)"
   ]
  },
  {
   "cell_type": "markdown",
   "id": "9f001a7b",
   "metadata": {},
   "source": [
    "# Changing convolution filter"
   ]
  },
  {
   "cell_type": "code",
   "execution_count": null,
   "id": "1e0d94c0",
   "metadata": {},
   "outputs": [],
   "source": [
    "po =np.genfromtxt('build/ConvolutionFilterChange_original_IQ.txt',delimiter=\",\")\n",
    "\n",
    "p1in =np.genfromtxt('build/fIQ_ConvolutionFilterChange_pass1.txt',delimiter=\",\")\n",
    "p1buf=np.genfromtxt('build/ConvolutionFilterChange_pass1.txt',delimiter=\",\")\n",
    "p1out=np.genfromtxt('build/ConvolutionFilterChange_pass1_filtered_IQ.txt',delimiter=\",\")\n",
    "\n",
    "p2in =np.genfromtxt('build/fIQ_ConvolutionFilterChange_pass2.txt',delimiter=\",\")\n",
    "p2buf=np.genfromtxt('build/ConvolutionFilterChange_pass2.txt',delimiter=\",\")\n",
    "p2out=np.genfromtxt('build/ConvolutionFilterChange_pass2_filtered_IQ.txt',delimiter=\",\")\n",
    "\n",
    "p3in =np.genfromtxt('build/fIQ_ConvolutionFilterChange_pass3.txt',delimiter=\",\")\n",
    "p3buf=np.genfromtxt('build/ConvolutionFilterChange_pass3.txt',delimiter=\",\")\n",
    "p3out=np.genfromtxt('build/ConvolutionFilterChange_pass3_filtered_IQ.txt',delimiter=\",\")\n",
    "\n",
    "def deinterleave(pout):\n",
    "    # deinterleave the outputs\n",
    "    pout = np.concatenate([pout[512:],pout[:512]])\n",
    "    pout[:,0] = np.arange(1024)\n",
    "    return pout\n",
    "\n",
    "# deinterleave the outputs\n",
    "#p1out = deinterleave(p1out)\n",
    "#p2out = deinterleave(p2out)\n",
    "#p3out = deinterleave(p3out)\n",
    "\n",
    "plt.figure()\n",
    "plt.plot(po[:,0],po[:,1],'k-')\n",
    "plt.plot(po[:,0],po[:,2],'r-')\n",
    "plt.xlabel(\"Time\")\n",
    "plt.ylabel(\"Amplitude\")\n",
    "plt.title('Original samples')\n",
    "\n",
    "\n",
    "ylims = [-1,1]\n",
    "plt.figure(figsize=(14,14))\n",
    "plt.subplot(3,3,1)\n",
    "plt.plot(p1in[:,0],p1in[:,1],'k-')\n",
    "plt.plot(p1in[:,0],p1in[:,2],'r-')\n",
    "#plt.ylim(ylims)\n",
    "#plt.xlabel(\"Time\")\n",
    "plt.ylabel(\"Amplitude\")\n",
    "plt.title('Pass 1 input samples')\n",
    "\n",
    "plt.subplot(3,3,2)\n",
    "plt.plot(p1buf[0::2,0]/2,p1buf[0::2,1],'k-')\n",
    "plt.plot(p1buf[0::2,0]/2,p1buf[1::2,1],'r-')\n",
    "#plt.ylim(ylims)\n",
    "#plt.xlabel(\"Time\")\n",
    "plt.ylabel(\"Amplitude\")\n",
    "plt.title('Pass 1 buffered samples')\n",
    "\n",
    "plt.subplot(3,3,3)\n",
    "plt.plot(p1out[:,0],p1out[:,1],'k-')\n",
    "plt.plot(p1out[:,0],p1out[:,2],'r-')\n",
    "#plt.ylim(ylims)\n",
    "#plt.xlabel(\"Time\")\n",
    "plt.ylabel(\"Amplitude\")\n",
    "plt.title('Pass 1 filtered samples')\n",
    "\n",
    "\n",
    "plt.subplot(3,3,1+3)\n",
    "plt.plot(p2in[:,0],p2in[:,1],'k-')\n",
    "plt.plot(p2in[:,0],p2in[:,2],'r-')\n",
    "#plt.ylim(ylims)\n",
    "#plt.xlabel(\"Time\")\n",
    "plt.ylabel(\"Amplitude\")\n",
    "plt.title('Pass 2 input samples')\n",
    "\n",
    "plt.subplot(3,3,2+3)\n",
    "plt.plot(p2buf[0::2,0]/2,p2buf[0::2,1],'k-')\n",
    "plt.plot(p2buf[0::2,0]/2,p2buf[1::2,1],'r-')\n",
    "#plt.ylim(ylims)\n",
    "#plt.xlabel(\"Time\")\n",
    "plt.ylabel(\"Amplitude\")\n",
    "plt.title('Pass 2 buffered samples')\n",
    "\n",
    "plt.subplot(3,3,3+3)\n",
    "plt.plot(p2out[:,0],p2out[:,1],'k-')\n",
    "plt.plot(p2out[:,0],p2out[:,2],'r-')\n",
    "#plt.ylim(ylims)\n",
    "#plt.xlabel(\"Time\")\n",
    "plt.ylabel(\"Amplitude\")\n",
    "plt.title('Pass 2 filtered samples')\n",
    "\n",
    "\n",
    "plt.subplot(3,3,1+6)\n",
    "plt.plot(p3in[:,0],p3in[:,1],'k-')\n",
    "plt.plot(p3in[:,0],p3in[:,2],'r-')\n",
    "#plt.ylim(ylims)\n",
    "plt.xlabel(\"Time\")\n",
    "plt.ylabel(\"Amplitude\")\n",
    "plt.title('Pass 3 input samples')\n",
    "\n",
    "plt.subplot(3,3,2+6)\n",
    "plt.plot(p3buf[0::2,0]/2,p3buf[0::2,1],'k-')\n",
    "plt.plot(p3buf[0::2,0]/2,p3buf[1::2,1],'r-')\n",
    "#plt.ylim(ylims)\n",
    "plt.xlabel(\"Time\")\n",
    "plt.ylabel(\"Amplitude\")\n",
    "plt.title('Pass 3 buffered samples')\n",
    "\n",
    "plt.subplot(3,3,3+6)\n",
    "plt.plot(p3out[:,0],p3out[:,1],'k-')\n",
    "plt.plot(p3out[:,0],p3out[:,2],'r-')\n",
    "#plt.ylim(ylims)\n",
    "plt.xlabel(\"Time\")\n",
    "plt.ylabel(\"Amplitude\")\n",
    "plt.title('Pass 3 filtered samples')\n",
    "\n",
    "\n",
    "\n",
    "fa,Pa = welch(po[:,1]+1j*po[:,2],fs=192000/8,return_onesided=False)\n",
    "f,P = welch(p3out[:,1]+1j*p3out[:,2],fs=192000/8,return_onesided=False)\n",
    "plt.figure()\n",
    "plt.plot(fa,10*np.log10(Pa),'k-',label='Original')\n",
    "plt.plot(f,10*np.log10(P),'r-',label='Filtered')\n",
    "plt.legend()\n",
    "plt.xlim([-8000,8000])\n",
    "plt.grid()\n",
    "plt.xlabel(\"Frequency [Hz]\")\n",
    "plt.ylabel('PSD [dB]')\n"
   ]
  },
  {
   "cell_type": "markdown",
   "id": "6849a5a9",
   "metadata": {},
   "source": [
    "Expected:\n",
    "![](images/convolution_filter_changed_original.png)\n",
    "![](images/convolution_filter_changed_passes.png)\n",
    "![](images/convolution_filter_changed_psd.png)"
   ]
  },
  {
   "cell_type": "code",
   "execution_count": null,
   "id": "1e92e745",
   "metadata": {},
   "outputs": [],
   "source": [
    "e=np.genfromtxt('build/ConvolutionFilterChange_filtered_PSD.txt',delimiter=\",\")\n",
    "\n",
    "bw = 192000/8/512\n",
    "\n",
    "plt.figure()\n",
    "plt.plot(e[:,0],e[:,1],'k-')\n",
    "for m in range(1,7):\n",
    "    b0 = frequency_to_bin(-m*192000/8/512*10+bw/2, 512, 192000/8)\n",
    "    print(\"m=%d,bin=%d,freq=%3.2f\"%(m,b0,-m*192000/8/512*10))\n",
    "    plt.plot(e[b0,0],e[b0,1],'r.')\n",
    "\n",
    "for m in range(10,13):\n",
    "    b0 = frequency_to_bin(-m*192000/8/512*10+bw/2, 512, 192000/8)\n",
    "    print(\"m=%d,bin=%d,freq=%3.2f\"%(m,b0,-m*192000/8/512*10))\n",
    "    plt.plot(e[b0,0],e[b0,1],'r.')\n",
    "\n",
    "plt.ylabel(\"Power [dB]\")\n",
    "plt.xlabel(\"PSD Frequency Bins\")\n",
    "plt.xlim([100,256])\n",
    "#plt.ylim([-2.5,5])\n",
    "plt.grid()\n"
   ]
  },
  {
   "cell_type": "markdown",
   "id": "cbed9934",
   "metadata": {},
   "source": [
    "Expected\n",
    "![](images/convolution_filter_changed_psd_zoom.png)"
   ]
  },
  {
   "cell_type": "markdown",
   "id": "8e06a5fc",
   "metadata": {},
   "source": [
    "# AGC"
   ]
  },
  {
   "cell_type": "code",
   "execution_count": null,
   "id": "9b8a24a2",
   "metadata": {},
   "outputs": [],
   "source": [
    "labels = [\"Off\",\"Long\",\"Slow\",\"Med\",\"Fast\"]\n",
    "\n",
    "plt.figure()\n",
    "for i in range(1,5):\n",
    "    a = np.genfromtxt('build/AGC%d_Imagnitudes.txt'%i,delimiter=\",\")\n",
    "    t_s = a[:,0]*256/(192000/8)\n",
    "    plt.plot(t_s,a[:,1],label=labels[i])\n",
    "plt.grid()\n",
    "plt.xlabel(\"Time [s]\")\n",
    "plt.ylabel(\"I magnitude [digital units]\")\n",
    "plt.title(\"AGC recovery time test\")\n",
    "#plt.ylim([0,0.25])\n",
    "#plt.xlim([100,320])\n",
    "plt.legend()\n"
   ]
  },
  {
   "cell_type": "markdown",
   "id": "44d5304a",
   "metadata": {},
   "source": [
    "Expected:\n",
    "![](images/agc.png)"
   ]
  },
  {
   "cell_type": "markdown",
   "id": "500aa0d7",
   "metadata": {},
   "source": [
    "# AM IIR Filter"
   ]
  },
  {
   "cell_type": "code",
   "execution_count": null,
   "id": "76228f82",
   "metadata": {},
   "outputs": [],
   "source": [
    "pb = np.genfromtxt('build/AudioIIRPassband.txt',delimiter=\",\")\n",
    "\n",
    "plt.figure()\n",
    "plt.plot(pb[:,1],np.log10(pb[:,2])*10,'k-')\n",
    "plt.grid()\n",
    "plt.xlabel('Frequency [Hz]')\n",
    "plt.ylabel(\"Gain [dB]\")\n",
    "plt.title(\"AM Demodulation IIR Filter Response\")\n"
   ]
  },
  {
   "cell_type": "markdown",
   "id": "f0f38c96",
   "metadata": {},
   "source": [
    "Expected:\n",
    "![](images/AM_IIR_filter.png)"
   ]
  },
  {
   "cell_type": "markdown",
   "id": "321f5a08",
   "metadata": {},
   "source": [
    "# Receive EQ"
   ]
  },
  {
   "cell_type": "code",
   "execution_count": null,
   "id": "d2b1afad",
   "metadata": {},
   "outputs": [],
   "source": [
    "fc = [198.425,250,314.98,400,500,630,793,1000,1259,1587,2000,2500,3150,4000]\n",
    "plt.figure(figsize=(12,6))\n",
    "for k in range(14):\n",
    "    am = np.genfromtxt('build/ReceiveEQ_band_%d.txt'%k,delimiter=\",\")\n",
    "    plt.plot(am[:,1],(am[:,2]),label=\"Band %d\"%k)\n",
    "    plt.plot(fc[k],1,'ro')\n",
    "    #fref = fc[k]*2\n",
    "    #Imin = np.argmin(np.abs(am[:,1]-fref))\n",
    "    #plt.plot(fref,(am[Imin,2]),'ko')\n",
    "plt.loglog()\n",
    "plt.grid()\n",
    "plt.legend()\n",
    "plt.xlabel('Frequency [Hz]')\n",
    "plt.ylabel(\"Gain\")\n",
    "plt.title(\"Receive EQ filter\")"
   ]
  },
  {
   "cell_type": "markdown",
   "id": "3fdb95f1",
   "metadata": {},
   "source": [
    "Expected:\n",
    "![](images/receive_EQ_passbands.png)"
   ]
  },
  {
   "cell_type": "markdown",
   "id": "c28e89a3",
   "metadata": {},
   "source": [
    "# Kim Noise Reduction"
   ]
  },
  {
   "cell_type": "code",
   "execution_count": null,
   "id": "86d22983",
   "metadata": {},
   "outputs": [],
   "source": [
    "plt.figure()\n",
    "for k in range(1,7+1):\n",
    "    kimin = np.genfromtxt('build/KimNR_pre%d.txt'%k,delimiter=\",\")\n",
    "    kimout = np.genfromtxt('build/KimNR_post%d.txt'%k,delimiter=\",\")\n",
    "\n",
    "    if k == 1:\n",
    "        plt.plot(((k-1)*256+kimin[:,0])*1/(192000/8)*1000,kimin[:,1],'k-',label=\"I\")\n",
    "        plt.plot(((k-1)*256+kimin[:,0])*1/(192000/8)*1000,kimin[:,2],'r-',label=\"Q\")\n",
    "        plt.plot(((k-1)*256+kimout[:,0])*1/(192000/8)*1000,kimout[:,1],'g-',label=\"Kim\")\n",
    "    else:\n",
    "        #plt.plot(((k-1)*256+kimin[:,0])*1/(192000/8)*1000,kimin[:,1],'k-')\n",
    "        #plt.plot(((k-1)*256+kimin[:,0])*1/(192000/8)*1000,kimin[:,2],'r-')\n",
    "        plt.plot(((k-1)*256+kimout[:,0])*1/(192000/8)*1000,kimout[:,1],'g-')\n",
    "    \n",
    "plt.grid()\n",
    "plt.legend()\n",
    "plt.xlabel('Time [ms]')\n",
    "plt.ylabel(\"Amplitude\")\n",
    "plt.title(\"Kim Noise Reduction\")"
   ]
  },
  {
   "cell_type": "markdown",
   "id": "72c69882",
   "metadata": {},
   "source": [
    "Expected:\n",
    "![](images/NR_kim.png)"
   ]
  },
  {
   "cell_type": "markdown",
   "id": "ae2d3a46",
   "metadata": {},
   "source": [
    "# Xanr Noise"
   ]
  },
  {
   "cell_type": "code",
   "execution_count": null,
   "id": "78658674",
   "metadata": {},
   "outputs": [],
   "source": [
    "plt.figure()\n",
    "for k in range(1,7+1):\n",
    "    xin = np.genfromtxt('build/XanrNR_pre%d.txt'%k,delimiter=\",\")\n",
    "    xout = np.genfromtxt('build/XanrNR_post%d.txt'%k,delimiter=\",\")\n",
    "\n",
    "    if k == 1:\n",
    "        plt.plot(((k-1)*256+xin[:,0])*1/(192000/8)*1000,xin[:,1],'k-',label=\"I\")\n",
    "        plt.plot(((k-1)*256+xin[:,0])*1/(192000/8)*1000,xin[:,2],'r-',label=\"Q\")\n",
    "        plt.plot(((k-1)*256+xout[:,0])*1/(192000/8)*1000,xout[:,2],'g-',label=\"Xanr\")\n",
    "    else:\n",
    "        #plt.plot(((k-1)*256+xin[:,0])*1/(192000/8)*1000,xin[:,1],'k-')\n",
    "        #plt.plot(((k-1)*256+xin[:,0])*1/(192000/8)*1000,xin[:,2],'r-')\n",
    "        plt.plot(((k-1)*256+xout[:,0])*1/(192000/8)*1000,xout[:,2],'g-')\n",
    "    \n",
    "plt.grid()\n",
    "plt.legend()\n",
    "plt.xlabel('Time [ms]')\n",
    "plt.ylabel(\"Amplitude\")\n",
    "plt.title(\"Xanr Noise Reduction\")"
   ]
  },
  {
   "cell_type": "markdown",
   "id": "c77aceef",
   "metadata": {},
   "source": [
    "Expected:\n",
    "![](images/NR_xanr.png)"
   ]
  },
  {
   "cell_type": "markdown",
   "id": "4a31b8a3",
   "metadata": {},
   "source": [
    "# Xanr Notch"
   ]
  },
  {
   "cell_type": "code",
   "execution_count": null,
   "id": "9f9bcd07",
   "metadata": {},
   "outputs": [],
   "source": [
    "plt.figure()\n",
    "for k in range(1,7+1):\n",
    "    xin = np.genfromtxt('build/XanrNotch_pre%d.txt'%k,delimiter=\",\")\n",
    "    xout = np.genfromtxt('build/XanrNotch_post%d.txt'%k,delimiter=\",\")\n",
    "\n",
    "    if k == 1:\n",
    "        plt.plot(((k-1)*256+xin[:,0])*1/(192000/8)*1000,xin[:,1],'k-',label=\"I\")\n",
    "        plt.plot(((k-1)*256+xin[:,0])*1/(192000/8)*1000,xin[:,2],'r-',label=\"Q\")\n",
    "        plt.plot(((k-1)*256+xout[:,0])*1/(192000/8)*1000,xout[:,2],'g-',label=\"Xanr\")\n",
    "    else:\n",
    "        #plt.plot(((k-1)*256+xin[:,0])*1/(192000/8)*1000,xin[:,1],'k-')\n",
    "        #plt.plot(((k-1)*256+xin[:,0])*1/(192000/8)*1000,xin[:,2],'r-')\n",
    "        plt.plot(((k-1)*256+xout[:,0])*1/(192000/8)*1000,xout[:,2],'g-')\n",
    "    \n",
    "plt.grid()\n",
    "plt.legend()\n",
    "plt.xlabel('Time [ms]')\n",
    "plt.ylabel(\"Amplitude\")\n",
    "plt.title(\"Xanr Notch\")"
   ]
  },
  {
   "cell_type": "markdown",
   "id": "22288560",
   "metadata": {},
   "source": [
    "Expected:\n",
    "![](images/NR_xanr_notch.png)"
   ]
  },
  {
   "cell_type": "markdown",
   "id": "4d04c346",
   "metadata": {},
   "source": [
    "# Spectral Noise Reduction"
   ]
  },
  {
   "cell_type": "code",
   "execution_count": null,
   "id": "6daa461e",
   "metadata": {},
   "outputs": [],
   "source": [
    "plt.figure()\n",
    "for k in range(1,7+1):\n",
    "    xin = np.genfromtxt('build/SpectralNR_pre%d.txt'%k,delimiter=\",\")\n",
    "    xout = np.genfromtxt('build/SpectralNR_post%d.txt'%k,delimiter=\",\")\n",
    "\n",
    "    if k == 1:\n",
    "        plt.plot(((k-1)*256+xin[:,0])*1/(192000/8)*1000,xin[:,1],'k-',label=\"I\")\n",
    "        plt.plot(((k-1)*256+xin[:,0])*1/(192000/8)*1000,xin[:,2],'r-',label=\"Q\")\n",
    "        plt.plot(((k-1)*256+xout[:,0])*1/(192000/8)*1000,xout[:,1],'g-',label=\"Spectral\")\n",
    "    else:\n",
    "        #plt.plot(((k-1)*256+xin[:,0])*1/(192000/8)*1000,xin[:,1],'k-')\n",
    "        #plt.plot(((k-1)*256+xin[:,0])*1/(192000/8)*1000,xin[:,2],'r-')\n",
    "        plt.plot(((k-1)*256+xout[:,0])*1/(192000/8)*1000,xout[:,1],'g-')\n",
    "    \n",
    "plt.grid()\n",
    "plt.legend()\n",
    "plt.xlabel('Time [ms]')\n",
    "plt.ylabel(\"Amplitude\")\n",
    "plt.title(\"Spectral Noise Reduction\")"
   ]
  },
  {
   "cell_type": "markdown",
   "id": "9ca7bf04",
   "metadata": {},
   "source": [
    "Expected:\n",
    "![](images/NR_spectral.png)"
   ]
  },
  {
   "cell_type": "markdown",
   "id": "2626e4b2",
   "metadata": {},
   "source": [
    "# Noise Reduction Function"
   ]
  },
  {
   "cell_type": "code",
   "execution_count": null,
   "id": "c6aac998",
   "metadata": {},
   "outputs": [],
   "source": [
    "xin = np.genfromtxt('build/NR_preK.txt',delimiter=\",\")\n",
    "xout = np.genfromtxt('build/NR_postK.txt',delimiter=\",\")\n",
    "sout = np.genfromtxt('build/NR_postS.txt',delimiter=\",\")\n",
    "lout = np.genfromtxt('build/NR_postL.txt',delimiter=\",\")\n",
    "\n",
    "plt.figure()\n",
    "plt.plot(xin[:,0]*1/(192000/8)*1000,xin[:,1],'k-',label=\"I\")\n",
    "plt.plot(xin[:,0]*1/(192000/8)*1000,xin[:,2],'r-',label=\"Q\")\n",
    "plt.plot(xout[:,0]*1/(192000/8)*1000,xout[:,1],'g-',label=\"Kim\")\n",
    "plt.plot(sout[:,0]*1/(192000/8)*1000,sout[:,1],'b-',label=\"Spectral\")\n",
    "plt.plot(lout[:,0]*1/(192000/8)*1000,lout[:,1],'m-',label=\"LMS\")\n",
    "    \n",
    "plt.grid()\n",
    "plt.legend()\n",
    "plt.xlabel('Time [ms]')\n",
    "plt.ylabel(\"Amplitude\")\n",
    "plt.title(\"Noise Reduction Function\")"
   ]
  },
  {
   "cell_type": "markdown",
   "id": "92751f67",
   "metadata": {},
   "source": [
    "Expected:\n",
    "![](images/NR_function.png)"
   ]
  },
  {
   "cell_type": "markdown",
   "id": "f2d5dbb4",
   "metadata": {},
   "source": [
    "# Receive Processing Mock Data"
   ]
  },
  {
   "cell_type": "code",
   "execution_count": null,
   "id": "9eb861a6",
   "metadata": {},
   "outputs": [],
   "source": [
    "L = open('mock_L_data_int.c','r').readline()\n",
    "Lvals = L.split('=')[1].strip().strip(';{}').split(',')\n",
    "si = np.array([int(a) for a in Lvals])\n",
    "    \n",
    "R = open('mock_R_data_int.c','r').readline()\n",
    "Rvals = R.split('=')[1].strip().strip(';{}').split(',')\n",
    "sq = np.array([int(a) for a in Rvals])\n",
    "\n",
    "plt.figure()\n",
    "ind = np.arange(len(si))\n",
    "plt.plot(ind,si,'k-')\n",
    "plt.plot(ind,sq,'r-')\n",
    "plt.xlim([0,256])"
   ]
  },
  {
   "cell_type": "markdown",
   "id": "ee35807a",
   "metadata": {},
   "source": [
    "Expected:\n",
    "![](images/receive_mock_data.png)"
   ]
  },
  {
   "cell_type": "markdown",
   "id": "632f6334",
   "metadata": {},
   "source": [
    "# Receive Processing"
   ]
  },
  {
   "cell_type": "code",
   "execution_count": null,
   "id": "50e75e48",
   "metadata": {},
   "outputs": [],
   "source": [
    "in1IQ=np.genfromtxt('build/IQ_ReceiveProcessing_buffer1.txt',delimiter=\",\")\n",
    "in2IQ=np.genfromtxt('build/IQ_ReceiveProcessing_buffer2.txt',delimiter=\",\")\n",
    "in3IQ=np.genfromtxt('build/IQ_ReceiveProcessing_buffer3.txt',delimiter=\",\")\n",
    "\n",
    "a1=np.genfromtxt('build/ReceiveProcessing_pass1_filtered_IQ.txt',delimiter=\",\")\n",
    "a2=np.genfromtxt('build/ReceiveProcessing_pass2_filtered_IQ.txt',delimiter=\",\")\n",
    "a3=np.genfromtxt('build/ReceiveProcessing_pass3_filtered_IQ.txt',delimiter=\",\")\n",
    "\n",
    "# Make a continuous dataset from the input buffers\n",
    "Iin = np.array([in1IQ[:,1],in2IQ[:,1],in3IQ[:,1]]).flatten()\n",
    "Qin = np.array([in1IQ[:,2],in2IQ[:,2],in3IQ[:,2]]).flatten()\n",
    "\n",
    "plt.figure(figsize=(16,4))\n",
    "plt.subplot(1,2,1)\n",
    "plt.plot(Iin[(2048-20):(2048+20)],'k-')\n",
    "plt.plot(Qin[(2048-20):(2048+20)],'r-')\n",
    "plt.grid()\n",
    "plt.title(\"Buffer 1 to 2 read data\")\n",
    "\n",
    "plt.subplot(1,2,2)\n",
    "plt.plot(Iin[(2048*2-20):(2048*2+20)],'k-')\n",
    "plt.plot(Qin[(2048*2-20):(2048*2+20)],'r-')\n",
    "plt.grid()\n",
    "plt.title(\"Buffer 2 to 3 read data\")\n",
    "\n",
    "\n",
    "plt.figure(figsize=(16,4))\n",
    "plt.subplot(1,3,1)\n",
    "plt.plot(a1[:,0],a1[:,1],'k-')\n",
    "plt.grid()\n",
    "plt.title(\"Buffer 1 Audio Output\")\n",
    "\n",
    "plt.subplot(1,3,2)\n",
    "plt.plot(a2[:,0],a2[:,1],'k-')\n",
    "plt.grid()\n",
    "plt.title(\"Buffer 2 Audio Output\")\n",
    "\n",
    "plt.subplot(1,3,3)\n",
    "plt.plot(a3[:,0],a3[:,1],'k-')\n",
    "plt.grid()\n",
    "plt.title(\"Buffer 3 Audio Output\")\n",
    "\n",
    "\n",
    "Lout=np.genfromtxt('build/ReceiveOut_L.txt',delimiter=\",\")\n",
    "Rout=np.genfromtxt('build/ReceiveOut_R.txt',delimiter=\",\")\n",
    "\n",
    "plt.figure()\n",
    "plt.plot(Lout,label='L')\n",
    "plt.plot(Rout+50,label='R+50')\n",
    "plt.grid()\n",
    "plt.legend()\n",
    "plt.title(\"Output audio samples\")\n",
    "\n",
    "\n",
    "f,P = welch(Iin+1j*Qin,fs=192000,return_onesided=False)\n",
    "fo,Po = welch(Lout,fs=192000,return_onesided=True)\n",
    "\n",
    "plt.figure(figsize=(16,4))\n",
    "plt.subplot(1,2,1)\n",
    "plt.plot(f/1000,10*np.log10(P),'k.')\n",
    "plt.grid()\n",
    "plt.xlabel('Frequency [kHz]')\n",
    "plt.title(\"Input IF: Max at %2.1f Hz\"%f[np.argmax(P)])\n",
    "\n",
    "plt.subplot(1,2,2)\n",
    "plt.plot(fo,Po,'k-')\n",
    "plt.xlim([0,4000])\n",
    "plt.grid()\n",
    "plt.xlabel('Frequency [Hz]')\n",
    "plt.title(\"Output audio: Max at %2.1f Hz\"%fo[np.argmax(Po)])\n",
    "\n"
   ]
  },
  {
   "cell_type": "markdown",
   "id": "c80b9a25",
   "metadata": {},
   "source": [
    "Expected:\n",
    "![](images/receive_buffer_read.png)\n",
    "![](images/receive_buffer_out.png)\n",
    "![](images/receive_outsamples.png)\n",
    "![](images/receive_psd.png)"
   ]
  },
  {
   "cell_type": "code",
   "execution_count": null,
   "id": "38b83c08",
   "metadata": {},
   "outputs": [],
   "source": []
  }
 ],
 "metadata": {
  "kernelspec": {
   "display_name": "Python 3 (ipykernel)",
   "language": "python",
   "name": "python3"
  },
  "language_info": {
   "codemirror_mode": {
    "name": "ipython",
    "version": 3
   },
   "file_extension": ".py",
   "mimetype": "text/x-python",
   "name": "python",
   "nbconvert_exporter": "python",
   "pygments_lexer": "ipython3",
   "version": "3.10.12"
  }
 },
 "nbformat": 4,
 "nbformat_minor": 5
}
